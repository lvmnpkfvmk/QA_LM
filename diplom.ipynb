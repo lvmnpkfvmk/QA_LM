{
 "cells": [
  {
   "cell_type": "code",
   "execution_count": 2,
   "metadata": {},
   "outputs": [
    {
     "name": "stderr",
     "output_type": "stream",
     "text": [
      "/Users/aa/vmk/diplom/.venv/lib/python3.9/site-packages/urllib3/__init__.py:35: NotOpenSSLWarning: urllib3 v2 only supports OpenSSL 1.1.1+, currently the 'ssl' module is compiled with 'LibreSSL 2.8.3'. See: https://github.com/urllib3/urllib3/issues/3020\n",
      "  warnings.warn(\n"
     ]
    }
   ],
   "source": [
    "import numpy as np # linear algebra\n",
    "import pandas as pd # data processing, CSV file I/O (e.g. pd.read_csv)\n",
    "import openai\n",
    "import json\n",
    "import ijson\n",
    "import os\n",
    "import requests\n",
    "from retrying import retry\n",
    "from pywikidata import Entity\n",
    "openai.api_key = os.getenv('KEY')\n",
    "\n",
    "openai.base_url = \"https://api.vsegpt.ru:6070/v1/\""
   ]
  },
  {
   "cell_type": "code",
   "execution_count": null,
   "metadata": {},
   "outputs": [],
   "source": [
    "file_path = \"lol/RuBQ_2.0_test.json\"\n",
    "with open(file_path, 'r') as file:\n",
    "    array_items = ijson.items(file, 'item')\n",
    "    \n",
    "    i = 756\n",
    "    true_answers = 483\n",
    "    answers = []\n",
    "    for j, item in enumerate(array_items):\n",
    "        if j < 756:\n",
    "            continue\n",
    "        messages = []\n",
    "        i += 1\n",
    "\n",
    "        question = item[\"question_eng\"]\n",
    "        try:\n",
    "            answer = \"\"\n",
    "            for x in item[\"answers\"][0][\"wd_names\"][\"en\"]:\n",
    "                answer += x.lower() + ' '\n",
    "        except:\n",
    "            continue\n",
    "        prompt = \"Answer shortly in 1-3 words. If answer is a number, print digits\"\n",
    "        # prompt = \"Ответь максимально коротко и ёмко на вопрос. Ответ приводи в именительном падеже, при этом не забывай о пунктуации.\"\n",
    "        # messages.append({\"role\": \"user\", \"content\": prompt})\n",
    "        messages.append({\"role\": \"user\", \"content\": prompt + ' ' + question})\n",
    "        response = \"\"\n",
    "        try:\n",
    "            response_big = openai.chat.completions.create(\n",
    "                model=\"openai/gpt-3.5-turbo-1106\",\n",
    "                messages=messages,\n",
    "                temperature=0.1,\n",
    "            )\n",
    "        except:\n",
    "            continue\n",
    "        response = response_big.choices[0].message.content.lower()\n",
    "        answers.append({\n",
    "            \"question\": question,\n",
    "            \"answer\": response,\n",
    "            \"correct_answer\": answer.lower(),\n",
    "            \"is_correct\": response in answer\n",
    "        })\n",
    "        if response in answer:\n",
    "            true_answers += 1\n",
    "        print(i, true_answers)\n",
    "        json_data = json.dumps(answers, indent=4)\n",
    "        with open(\"questions_answers_rubq.json\", \"w\") as json_file:\n",
    "            json_file.write(json_data)"
   ]
  },
  {
   "cell_type": "code",
   "execution_count": 3,
   "metadata": {},
   "outputs": [],
   "source": [
    "df_test = pd.read_csv('archive/n_annotated_wd_data_test_answerable.csv')\n",
    "df_test.head()\n",
    "\n",
    "df_train = pd.read_csv('archive/n_annotated_wd_data_train_answerable.csv')\n",
    "\n",
    "df_valid = pd.read_csv('archive/n_annotated_wd_data_valid_answerable.csv')\n"
   ]
  },
  {
   "cell_type": "code",
   "execution_count": 4,
   "metadata": {},
   "outputs": [
    {
     "data": {
      "text/plain": [
       "'Name a person born in queens\\n'"
      ]
     },
     "execution_count": 4,
     "metadata": {},
     "output_type": "execute_result"
    }
   ],
   "source": [
    "df_test['q'][1223]"
   ]
  },
  {
   "cell_type": "code",
   "execution_count": 10,
   "metadata": {},
   "outputs": [],
   "source": [
    "# @retry(stop_max_attempt_number=3, wait_fixed=20000)  # Retry 3 times with a fixed delay of 2 seconds\n",
    "def send_request(question_text):\n",
    "    url = 'http://5.35.10.151:8080/pipeline/m3m'  # Replace with your server's IP address and port\n",
    "    headers = {'Content-Type': 'application/json'}\n",
    "    data = {'text': question_text}\n",
    "\n",
    "    response = requests.post(url, json=data, headers=headers)\n",
    "\n",
    "    if response.status_code == 200 or response.status_code == 307:\n",
    "        return response.json()  # Assuming the response is in JSON format\n",
    "    else:\n",
    "        print(f\"Error: {response.status_code}\")\n",
    "        raise Exception"
   ]
  },
  {
   "cell_type": "code",
   "execution_count": 11,
   "metadata": {},
   "outputs": [
    {
     "data": {
      "text/plain": [
       "{'answers': ['Q65',\n",
       "  'Q60',\n",
       "  'Q30',\n",
       "  'Q8652',\n",
       "  'Q1408',\n",
       "  'Q5148553',\n",
       "  'Q79202',\n",
       "  'Q844652',\n",
       "  'Q497155',\n",
       "  'Q99',\n",
       "  'Q1649',\n",
       "  'Q434841',\n",
       "  'Q1626895',\n",
       "  'Q84',\n",
       "  'Q3503936',\n",
       "  'Q622668',\n",
       "  'Q13974',\n",
       "  'Q621364',\n",
       "  'Q16242963',\n",
       "  'Q1163074',\n",
       "  'Q3141',\n",
       "  'Q1323594',\n",
       "  'Q145',\n",
       "  'Q744357',\n",
       "  'Q40',\n",
       "  'Q362',\n",
       "  'Q860626',\n",
       "  'Q168383',\n",
       "  'Q223193',\n",
       "  'Q314771',\n",
       "  'Q310060',\n",
       "  'Q316977'],\n",
       " 'scores': [0.00830150581896305,\n",
       "  0.007837696000933647,\n",
       "  0.007544948253780603,\n",
       "  0.007424716372042894,\n",
       "  0.007360268849879503,\n",
       "  0.007226359099149704,\n",
       "  0.007179952226579189,\n",
       "  0.0071798283606767654,\n",
       "  0.007167454808950424,\n",
       "  0.007130903657525778,\n",
       "  0.007121264934539795,\n",
       "  0.007106325589120388,\n",
       "  0.007065795361995697,\n",
       "  0.007046486716717482,\n",
       "  0.007020450197160244,\n",
       "  0.006990097463130951,\n",
       "  0.006987355649471283,\n",
       "  0.006981966085731983,\n",
       "  0.006981737911701202,\n",
       "  0.006953729782253504,\n",
       "  0.006938112899661064,\n",
       "  0.006937965750694275,\n",
       "  0.006920847110450268,\n",
       "  0.006917767226696014,\n",
       "  0.006908034905791283,\n",
       "  0.006899351254105568,\n",
       "  0.0068982429802417755,\n",
       "  0.006886119022965431,\n",
       "  0.006882240530103445,\n",
       "  0.006876946426928043,\n",
       "  0.006871773861348629,\n",
       "  0.00686793215572834],\n",
       " 'uncertenity': 4.939921200275421e-05,\n",
       " 'triples': [['Q151848', 'P840', 'Q65'],\n",
       "  ['Q1398816', 'P915', 'Q60'],\n",
       "  ['Q13912', 'P495', 'Q30'],\n",
       "  ['Q151848', 'P840', 'Q8652'],\n",
       "  ['Q151848', 'P840', 'Q1408'],\n",
       "  ['Q32942287', 'P272', 'Q5148553'],\n",
       "  ['Q284333', 'P750', 'Q79202'],\n",
       "  ['Q25366', 'P272', 'Q844652'],\n",
       "  ['Q1217733', 'P272', 'Q497155'],\n",
       "  ['Q151848', 'P915', 'Q99'],\n",
       "  ['Q1500457', 'P840', 'Q1649'],\n",
       "  ['Q1398816', 'P750', 'Q434841'],\n",
       "  ['Q622742', 'P272', 'Q1626895'],\n",
       "  ['Q151848', 'P915', 'Q84'],\n",
       "  ['Q552560', 'P161', 'Q3503936'],\n",
       "  ['Q622742', 'P272', 'Q622668'],\n",
       "  ['Q25366', 'P449', 'Q13974'],\n",
       "  ['Q622742', 'P272', 'Q621364'],\n",
       "  ['Q32942287', 'P750', 'Q16242963'],\n",
       "  ['Q151848', 'P750', 'Q1163074'],\n",
       "  ['Q622742', 'P915', 'Q3141'],\n",
       "  ['Q1217733', 'P750', 'Q1323594'],\n",
       "  ['Q392806', 'P495', 'Q145'],\n",
       "  ['Q25366', 'P161', 'Q744357'],\n",
       "  ['Q392806', 'P840', 'Q40'],\n",
       "  ['Q392806', 'P921', 'Q362'],\n",
       "  ['Q1217733', 'P136', 'Q860626'],\n",
       "  ['Q552560', 'P750', 'Q168383'],\n",
       "  ['Q284333', 'P161', 'Q223193'],\n",
       "  ['Q622742', 'P1877', 'Q314771'],\n",
       "  ['Q1217733', 'P161', 'Q310060'],\n",
       "  ['Q1217733', 'P161', 'Q316977']]}"
      ]
     },
     "execution_count": 11,
     "metadata": {},
     "output_type": "execute_result"
    }
   ],
   "source": [
    "send_request(\"Where?\")"
   ]
  },
  {
   "cell_type": "code",
   "execution_count": null,
   "metadata": {},
   "outputs": [],
   "source": [
    "answers = []\n",
    "i = 0\n",
    "true_answers = 0\n",
    "for question, answer in zip(df_test['q'], df_test['e2']):\n",
    "    messages = []\n",
    "    i += 1\n",
    "\n",
    "    response = \"\"\n",
    "    try:\n",
    "        response_data = send_request(question)\n",
    "        response = Entity(response_data['answers'][0]).label.lower()\n",
    "    except Exception as e:\n",
    "        response = str(e)\n",
    "    answers.append({\n",
    "        \"question\": question,\n",
    "        \"answer\": response,\n",
    "        \"correct_answer\": answer.lower(),\n",
    "        \"is_correct\": answer.lower() in response\n",
    "    })\n",
    "    if answer.lower() in response:\n",
    "        true_answers += 1\n",
    "    print(i, true_answers)\n",
    "    json_data = json.dumps(answers, indent=4)\n",
    "    with open(\"questions_answers.json\", \"w\") as json_file:\n",
    "        json_file.write(json_data)"
   ]
  },
  {
   "cell_type": "code",
   "execution_count": null,
   "metadata": {},
   "outputs": [
    {
     "data": {
      "text/plain": [
       "5621"
      ]
     },
     "execution_count": 26,
     "metadata": {},
     "output_type": "execute_result"
    }
   ],
   "source": [
    "\n",
    "for question, answer in zip(df_valid['q'][:2], df_valid['e2']):\n",
    "    record = convert_conversation(question, answer, system_message)\n",
    "    validation.append(record)\n",
    "    "
   ]
  },
  {
   "cell_type": "code",
   "execution_count": null,
   "metadata": {},
   "outputs": [],
   "source": []
  }
 ],
 "metadata": {
  "kernelspec": {
   "display_name": "Python 3",
   "language": "python",
   "name": "python3"
  },
  "language_info": {
   "codemirror_mode": {
    "name": "ipython",
    "version": 3
   },
   "file_extension": ".py",
   "mimetype": "text/x-python",
   "name": "python",
   "nbconvert_exporter": "python",
   "pygments_lexer": "ipython3",
   "version": "3.9.6"
  }
 },
 "nbformat": 4,
 "nbformat_minor": 2
}
