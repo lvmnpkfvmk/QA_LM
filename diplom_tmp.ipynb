{
 "cells": [
  {
   "cell_type": "code",
   "execution_count": 1,
   "metadata": {},
   "outputs": [],
   "source": [
    "import numpy as np # linear algebra\n",
    "import pandas as pd # data processing, CSV file I/O (e.g. pd.read_csv)\n",
    "import openai\n",
    "import json\n",
    "import ijson\n",
    "import os\n",
    "\n",
    "openai.api_key = os.getenv('KEY')\n",
    "\n",
    "openai.base_url = \"https://api.vsegpt.ru:6070/v1/\""
   ]
  },
  {
   "cell_type": "code",
   "execution_count": 2,
   "metadata": {},
   "outputs": [
    {
     "data": {
      "text/plain": [
       "<openai.resources.chat.chat.Chat at 0x128ff9f10>"
      ]
     },
     "execution_count": 2,
     "metadata": {},
     "output_type": "execute_result"
    }
   ],
   "source": [
    "openai.chat"
   ]
  },
  {
   "cell_type": "code",
   "execution_count": null,
   "metadata": {},
   "outputs": [],
   "source": [
    "file_path = \"lol/RuBQ_2.0_test.json\"\n",
    "with open(file_path, 'r') as file:\n",
    "    array_items = ijson.items(file, 'item')\n",
    "    \n",
    "    i = 756\n",
    "    true_answers = 483\n",
    "    answers = []\n",
    "    for j, item in enumerate(array_items):\n",
    "        if j < 756:\n",
    "            continue\n",
    "        messages = []\n",
    "        i += 1\n",
    "\n",
    "        question = item[\"question_eng\"]\n",
    "        try:\n",
    "            answer = \"\"\n",
    "            for x in item[\"answers\"][0][\"wd_names\"][\"en\"]:\n",
    "                answer += x.lower() + ' '\n",
    "        except:\n",
    "            continue\n",
    "        prompt = \"Answer shortly in 1-3 words. If answer is a number, print digits\"\n",
    "        # prompt = \"Ответь максимально коротко и ёмко на вопрос. Ответ приводи в именительном падеже, при этом не забывай о пунктуации.\"\n",
    "        # messages.append({\"role\": \"user\", \"content\": prompt})\n",
    "        messages.append({\"role\": \"user\", \"content\": prompt + ' ' + question})\n",
    "        response = \"\"\n",
    "        try:\n",
    "            response_big = openai.chat.completions.create(\n",
    "                model=\"openai/gpt-3.5-turbo-1106\",\n",
    "                messages=messages,\n",
    "                temperature=0.1,\n",
    "            )\n",
    "        except:\n",
    "            continue\n",
    "        response = response_big.choices[0].message.content.lower()\n",
    "        answers.append({\n",
    "            \"question\": question,\n",
    "            \"answer\": response,\n",
    "            \"correct_answer\": answer.lower(),\n",
    "            \"is_correct\": response in answer\n",
    "        })\n",
    "        if response in answer:\n",
    "            true_answers += 1\n",
    "        print(i, true_answers)\n",
    "        json_data = json.dumps(answers, indent=4)\n",
    "        with open(\"questions_answers_rubq.json\", \"w\") as json_file:\n",
    "            json_file.write(json_data)"
   ]
  },
  {
   "cell_type": "code",
   "execution_count": 3,
   "metadata": {},
   "outputs": [],
   "source": [
    "df_test = pd.read_csv('archive/n_annotated_wd_data_test_answerable.csv')\n",
    "df_test.head()\n",
    "\n",
    "df_train = pd.read_csv('archive/n_annotated_wd_data_train_answerable.csv')\n",
    "\n",
    "df_valid = pd.read_csv('archive/n_annotated_wd_data_valid_answerable.csv')\n"
   ]
  },
  {
   "cell_type": "code",
   "execution_count": 4,
   "metadata": {},
   "outputs": [
    {
     "data": {
      "text/plain": [
       "'Name a person born in queens\\n'"
      ]
     },
     "execution_count": 4,
     "metadata": {},
     "output_type": "execute_result"
    }
   ],
   "source": [
    "df_test['q'][1223]"
   ]
  },
  {
   "cell_type": "code",
   "execution_count": null,
   "metadata": {},
   "outputs": [],
   "source": [
    "# print(df_train.loc[0])\n",
    "# print(df_train['q'][0], df_train['e1'][0])\n",
    "i = 0\n",
    "true_answers = 0\n",
    "answers = []\n",
    "for question, answer in zip(df_test['q'], df_test['e2']):\n",
    "    if i == 201:\n",
    "        break\n",
    "    messages = []\n",
    "    i += 1\n",
    "\n",
    "    prompt = \"Answer shortly in 1-3 words\"\n",
    "    # prompt = \"Отвечай наиболее коротко, 1-3 слова\"\n",
    "    # prompt = \"Ответь максимально коротко и ёмко на вопрос. Ответ приводи в именительном падеже, при этом не забывай о пунктуации.\"\n",
    "    # messages.append({\"role\": \"user\", \"content\": prompt})\n",
    "    messages.append({\"role\": \"user\", \"content\": prompt + ' ' + question})\n",
    "    response = \"\"\n",
    "    try:\n",
    "        response_big = openai.chat.completions.create(\n",
    "            model=\"openai/gpt-3.5-turbo-1106\",\n",
    "            messages=messages,\n",
    "            temperature=0.1,\n",
    "        )\n",
    "        response = response_big.choices[0].message.content.lower()\n",
    "    except Exception as e:\n",
    "        print(e)\n",
    "        response = \"Error\"\n",
    "    answers.append({\n",
    "        \"question\": question,\n",
    "        \"answer\": response,\n",
    "        \"correct_answer\": answer.lower(),\n",
    "        \"is_correct\": answer.lower() in response\n",
    "    })\n",
    "    if answer.lower() in response:\n",
    "        true_answers += 1\n",
    "    print(i, true_answers)\n",
    "    json_data = json.dumps(answers, indent=4)\n",
    "    with open(\"questions_answers_tmp.json\", \"w\") as json_file:\n",
    "        json_file.write(json_data)"
   ]
  },
  {
   "cell_type": "code",
   "execution_count": null,
   "metadata": {},
   "outputs": [
    {
     "data": {
      "text/plain": [
       "5621"
      ]
     },
     "execution_count": 26,
     "metadata": {},
     "output_type": "execute_result"
    }
   ],
   "source": [
    "len(df_test['q'])"
   ]
  },
  {
   "cell_type": "code",
   "execution_count": null,
   "metadata": {},
   "outputs": [],
   "source": []
  }
 ],
 "metadata": {
  "kernelspec": {
   "display_name": "Python 3",
   "language": "python",
   "name": "python3"
  },
  "language_info": {
   "codemirror_mode": {
    "name": "ipython",
    "version": 3
   },
   "file_extension": ".py",
   "mimetype": "text/x-python",
   "name": "python",
   "nbconvert_exporter": "python",
   "pygments_lexer": "ipython3",
   "version": "3.9.6"
  }
 },
 "nbformat": 4,
 "nbformat_minor": 2
}
