{
 "cells": [
  {
   "cell_type": "code",
   "execution_count": 1,
   "metadata": {},
   "outputs": [
    {
     "name": "stderr",
     "output_type": "stream",
     "text": [
      "/Users/aa/vmk/diplom/.venv/lib/python3.9/site-packages/urllib3/__init__.py:35: NotOpenSSLWarning: urllib3 v2 only supports OpenSSL 1.1.1+, currently the 'ssl' module is compiled with 'LibreSSL 2.8.3'. See: https://github.com/urllib3/urllib3/issues/3020\n",
      "  warnings.warn(\n"
     ]
    }
   ],
   "source": [
    "import numpy as np # linear algebra\n",
    "import pandas as pd # data processing, CSV file I/O (e.g. pd.read_csv)\n",
    "import openai\n",
    "import json\n",
    "import ijson\n",
    "import requests\n",
    "from pywikidata import Entity\n",
    "import os\n",
    "openai.api_key = os.getenv('KEY')\n",
    "\n",
    "openai.base_url = \"https://api.vsegpt.ru:6070/v1/\""
   ]
  },
  {
   "cell_type": "code",
   "execution_count": null,
   "metadata": {},
   "outputs": [],
   "source": [
    "file_path = \"lol/RuBQ_2.0_test.json\"\n",
    "with open(file_path, 'r') as file:\n",
    "    array_items = ijson.items(file, 'item')\n",
    "    \n",
    "    i = 0\n",
    "    true_answers = 0\n",
    "    answers = []\n",
    "    for item in array_items:\n",
    "        messages = []\n",
    "        i += 1\n",
    "\n",
    "        question = item[\"question_eng\"]\n",
    "        try:\n",
    "            answer = \"\"\n",
    "            for x in item[\"answers\"][0][\"wd_names\"][\"en\"]:\n",
    "                answer += x.lower() + ' '\n",
    "        except:\n",
    "            continue\n",
    "        prompt = \"Answer shortly in 1-3 words. If answer is a number, print digits\"\n",
    "        # prompt = \"Ответь максимально коротко и ёмко на вопрос. Ответ приводи в именительном падеже, при этом не забывай о пунктуации.\"\n",
    "        # messages.append({\"role\": \"user\", \"content\": prompt})\n",
    "        messages.append({\"role\": \"user\", \"content\": prompt + ' ' + question})\n",
    "        response = \"\"\n",
    "        try:\n",
    "            response_big = openai.chat.completions.create(\n",
    "                model=\"openai/gpt-3.5-turbo-1106\",\n",
    "                messages=messages,\n",
    "                temperature=0.1,\n",
    "            )\n",
    "            response = response_big.choices[0].message.content.lower()\n",
    "        except:\n",
    "            response = \"\"\n",
    "            \n",
    "        answers.append({\n",
    "            \"question\": question,\n",
    "            \"answer\": response,\n",
    "            \"correct_answer\": answer.lower(),\n",
    "            \"is_correct\": response in answer\n",
    "        })\n",
    "        if response in answer:\n",
    "            true_answers += 1\n",
    "        print(i, true_answers)\n",
    "        json_data = json.dumps(answers, indent=4)\n",
    "        with open(\"questions_answers_rubq.json\", \"w\") as json_file:\n",
    "            json_file.write(json_data)"
   ]
  },
  {
   "cell_type": "code",
   "execution_count": 4,
   "metadata": {},
   "outputs": [],
   "source": [
    "def send_request(question_text):\n",
    "    url = 'http://5.35.10.151:8080/pipeline/act_selection/main'\n",
    "    headers = {'Content-Type': 'application/json'}\n",
    "    data = {'text': question_text}\n",
    "\n",
    "    response = requests.post(url, json=data, headers=headers)\n",
    "\n",
    "    if response.status_code == 200:\n",
    "        return response.json()\n",
    "    else:\n",
    "        print(f\"Error: {response.status_code}\")\n",
    "        return None"
   ]
  },
  {
   "cell_type": "code",
   "execution_count": null,
   "metadata": {},
   "outputs": [],
   "source": [
    "response = send_request(\"Largest country in the world?\")\n",
    "response"
   ]
  },
  {
   "cell_type": "code",
   "execution_count": null,
   "metadata": {},
   "outputs": [],
   "source": [
    "file_path = \"lol/RuBQ_2.0_test.json\"\n",
    "with open(file_path, 'r') as file:\n",
    "    array_items = ijson.items(file, 'item')\n",
    "    \n",
    "    i = 144\n",
    "    true_answers = 51\n",
    "    answers = []\n",
    "    for j, item in enumerate(array_items):\n",
    "        if j < 144:\n",
    "            continue\n",
    "        messages = []\n",
    "        i += 1\n",
    "\n",
    "        question = item[\"question_eng\"]\n",
    "        try:\n",
    "            answer = \"\"\n",
    "            for x in item[\"answers\"][0][\"wd_names\"][\"en\"]:\n",
    "                answer += x.lower() + ' '\n",
    "        except:\n",
    "            continue\n",
    "        response_data = send_request(question)\n",
    "        if not response_data:\n",
    "            continue\n",
    "\n",
    "        response = Entity(response_data['answers'][0]).label.lower()\n",
    "        answers.append({\n",
    "            \"question\": question,\n",
    "            \"answer\": response,\n",
    "            \"correct_answer\": answer.lower(),\n",
    "            \"is_correct\": response in answer.lower()\n",
    "        })\n",
    "        if response in answer.lower():\n",
    "            true_answers += 1\n",
    "        print(i, true_answers)\n",
    "        json_data = json.dumps(answers[len(answers) - 1], indent=4)\n",
    "        with open(\"questions_answers_rubq_act.json\", \"a\") as json_file:\n",
    "            json_file.write(json_data + \",\\n\")"
   ]
  },
  {
   "cell_type": "code",
   "execution_count": null,
   "metadata": {},
   "outputs": [],
   "source": []
  }
 ],
 "metadata": {
  "kernelspec": {
   "display_name": ".venv",
   "language": "python",
   "name": "python3"
  },
  "language_info": {
   "codemirror_mode": {
    "name": "ipython",
    "version": 3
   },
   "file_extension": ".py",
   "mimetype": "text/x-python",
   "name": "python",
   "nbconvert_exporter": "python",
   "pygments_lexer": "ipython3",
   "version": "3.9.6"
  }
 },
 "nbformat": 4,
 "nbformat_minor": 2
}
